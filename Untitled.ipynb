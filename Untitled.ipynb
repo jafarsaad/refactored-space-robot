{
 "cells": [
  {
   "cell_type": "code",
   "execution_count": null,
   "id": "c3180ae4-7f66-41e4-ac8b-458aaa693fd3",
   "metadata": {},
   "outputs": [],
   "source": [
    "jscphy"
   ]
  },
  {
   "cell_type": "code",
   "execution_count": null,
   "id": "39c14157-5171-4c00-9c5c-57cf963d8809",
   "metadata": {},
   "outputs": [],
   "source": [
    "jscphy1"
   ]
  }
 ],
 "metadata": {
  "kernelspec": {
   "display_name": "Python 3 (ipykernel)",
   "language": "python",
   "name": "python3"
  },
  "language_info": {
   "codemirror_mode": {
    "name": "ipython",
    "version": 3
   },
   "file_extension": ".py",
   "mimetype": "text/x-python",
   "name": "python",
   "nbconvert_exporter": "python",
   "pygments_lexer": "ipython3",
   "version": "3.10.13"
  }
 },
 "nbformat": 4,
 "nbformat_minor": 5
}
